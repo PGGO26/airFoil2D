{
 "cells": [
  {
   "attachments": {},
   "cell_type": "markdown",
   "metadata": {},
   "source": [
    "# Import Data"
   ]
  },
  {
   "cell_type": "code",
   "execution_count": 4,
   "metadata": {},
   "outputs": [],
   "source": [
    "import re, sys, numpy, os\n",
    "import pandas as pd\n",
    "import matplotlib.pyplot as plt"
   ]
  },
  {
   "attachments": {},
   "cell_type": "markdown",
   "metadata": {},
   "source": [
    "# Find id"
   ]
  },
  {
   "cell_type": "code",
   "execution_count": 5,
   "metadata": {},
   "outputs": [
    {
     "name": "stdout",
     "output_type": "stream",
     "text": [
      "4000\n"
     ]
    }
   ],
   "source": [
    "def find(path):\n",
    "    file_list_total = os.listdir(path)\n",
    "\n",
    "    file_list = []\n",
    "\n",
    "    for i in range(len(file_list_total)):\n",
    "        if len(file_list_total[i]) > 4:\n",
    "            continue\n",
    "        \n",
    "        elif file_list_total[i] == '.git':\n",
    "            continue\n",
    "        elif file_list_total[i] == 'logs':\n",
    "            continue\n",
    "\n",
    "        else:\n",
    "            file_name = str(file_list_total[i])\n",
    "            file_list.append(int(file_name))\n",
    "\n",
    "    file_list.sort()\n",
    "    file_last = []\n",
    "\n",
    "    for file in file_list:\n",
    "        if file % 100 == 0:\n",
    "            file_last = file\n",
    "        else:\n",
    "            exit\n",
    "\n",
    "    return file_last\n",
    "id = find('airFoil2D')\n",
    "print(find('airFoil2D'))\n"
   ]
  },
  {
   "cell_type": "code",
   "execution_count": 6,
   "metadata": {},
   "outputs": [],
   "source": [
    "os.chdir('airFoil2D')\n",
    "with open(r'constant/polyMesh/points', 'r') as fpoints:\n",
    "    points_database = fpoints.read()\n",
    "\n",
    "with open(r'constant/polyMesh/faces', 'r') as ffaces:\n",
    "    faces_database = ffaces.read()\n",
    "\n",
    "with open(f'{id}/wallShearStress', 'r') as fstress:\n",
    "    stress_database = fstress.read()\n",
    "\n",
    "with open(r'constant/polyMesh/boundary', 'r') as boundary:\n",
    "    boundary = boundary.read()\n",
    "\n",
    "os.chdir('..')\n",
    "dref = pd.read_csv('Reference ShearStress..csv')"
   ]
  },
  {
   "attachments": {},
   "cell_type": "markdown",
   "metadata": {},
   "source": [
    "# Data Process"
   ]
  },
  {
   "attachments": {},
   "cell_type": "markdown",
   "metadata": {},
   "source": [
    "Points, Faces, and Shear Stress"
   ]
  },
  {
   "cell_type": "code",
   "execution_count": 7,
   "metadata": {},
   "outputs": [],
   "source": [
    "points = re.findall('\\(.*\\)', points_database)\n",
    "\n",
    "faces = re.findall('\\(.*\\)', faces_database)\n",
    "\n",
    "stress_database = stress_database.replace('(0 0 0)', '')\n",
    "stress = re.findall('\\(.*\\)', stress_database)\n"
   ]
  },
  {
   "attachments": {},
   "cell_type": "markdown",
   "metadata": {},
   "source": [
    "Boundary ( nFaces & startFace )"
   ]
  },
  {
   "cell_type": "code",
   "execution_count": 8,
   "metadata": {},
   "outputs": [],
   "source": [
    "temp = re.split('(aerofoil)', boundary)[2]\n",
    "for item in re.finditer('(nFaces[\\s]*)([\\w]*)', temp):\n",
    "    nFaces = item.group(2)\n",
    "\n",
    "for item in re.finditer('(startFace[\\s]*)([\\w]*)', temp):\n",
    "    startFace = item.group(2)\n",
    "\n",
    "# print(nFaces, startFace)\n",
    "\n",
    "endFaces = int(startFace) + int(nFaces)"
   ]
  },
  {
   "attachments": {},
   "cell_type": "markdown",
   "metadata": {},
   "source": [
    "Faces"
   ]
  },
  {
   "cell_type": "code",
   "execution_count": 9,
   "metadata": {},
   "outputs": [],
   "source": [
    "faces_total = []\n",
    "Faces = []\n",
    "\n",
    "for item in faces:\n",
    "    faces_total.append(re.findall('[\\w]*', item)[1])\n",
    "\n",
    "Faces = faces_total[int(startFace):endFaces]"
   ]
  },
  {
   "attachments": {},
   "cell_type": "markdown",
   "metadata": {},
   "source": [
    "Points on airfoil ( x, y coordinate)"
   ]
  },
  {
   "cell_type": "code",
   "execution_count": 10,
   "metadata": {},
   "outputs": [],
   "source": [
    "x_total = []\n",
    "X = []\n",
    "y_total = []\n",
    "Y = []\n",
    "for index in range(len(points)):\n",
    "    for item in re.finditer('(\\()([\\S ]*)(\\))', points[index]):\n",
    "        x_total.append(float(re.findall('[\\S]*', item.group(2))[0]))\n",
    "        y_total.append(float(re.findall('[\\S]*', item.group(2))[2]))\n",
    "\n",
    "for item in Faces:\n",
    "    index = int(item)\n",
    "    X.append(x_total[index])\n",
    "    Y.append(y_total[index])\n"
   ]
  },
  {
   "attachments": {},
   "cell_type": "markdown",
   "metadata": {},
   "source": [
    "Shear Stress"
   ]
  },
  {
   "cell_type": "code",
   "execution_count": 11,
   "metadata": {},
   "outputs": [],
   "source": [
    "Tau_x = []\n",
    "Tau_y = []\n",
    "for item in stress:\n",
    "    for item in re.finditer('(\\()([\\S ]*)(\\))', item):\n",
    "        Taudata = item.group(2)\n",
    "        Tau_x.append(float(re.split('[\\ ]', Taudata)[0]))\n",
    "        Tau_y.append(float(re.split('[\\ ]', Taudata)[1]))\n"
   ]
  },
  {
   "attachments": {},
   "cell_type": "markdown",
   "metadata": {},
   "source": [
    "# Construct DataFrame"
   ]
  },
  {
   "cell_type": "code",
   "execution_count": 12,
   "metadata": {},
   "outputs": [],
   "source": [
    "df = pd.DataFrame(X,columns={'x'})\n",
    "df['y'] = Y\n",
    "df['X Shear Stress'] = Tau_x\n",
    "df['Y Shear Stress'] = Tau_y\n",
    "df['Shear Stress'] = numpy.sqrt(numpy.square(df['X Shear Stress']) + numpy.square(df['Y Shear Stress']))"
   ]
  },
  {
   "attachments": {},
   "cell_type": "markdown",
   "metadata": {},
   "source": [
    "Dynamic Pressure"
   ]
  },
  {
   "cell_type": "code",
   "execution_count": 13,
   "metadata": {},
   "outputs": [],
   "source": [
    "q = 0.5 * 1 * numpy.square(40)\n",
    "df['Shear Stress'] = df['Shear Stress'] / q"
   ]
  },
  {
   "attachments": {},
   "cell_type": "markdown",
   "metadata": {},
   "source": [
    "Classify into upper surface of the airfoil"
   ]
  },
  {
   "cell_type": "code",
   "execution_count": 14,
   "metadata": {},
   "outputs": [
    {
     "data": {
      "text/html": [
       "<div>\n",
       "<style scoped>\n",
       "    .dataframe tbody tr th:only-of-type {\n",
       "        vertical-align: middle;\n",
       "    }\n",
       "\n",
       "    .dataframe tbody tr th {\n",
       "        vertical-align: top;\n",
       "    }\n",
       "\n",
       "    .dataframe thead th {\n",
       "        text-align: right;\n",
       "    }\n",
       "</style>\n",
       "<table border=\"1\" class=\"dataframe\">\n",
       "  <thead>\n",
       "    <tr style=\"text-align: right;\">\n",
       "      <th></th>\n",
       "      <th>x</th>\n",
       "      <th>y</th>\n",
       "      <th>X Shear Stress</th>\n",
       "      <th>Y Shear Stress</th>\n",
       "      <th>Shear Stress</th>\n",
       "    </tr>\n",
       "  </thead>\n",
       "  <tbody>\n",
       "    <tr>\n",
       "      <th>450</th>\n",
       "      <td>0.000198</td>\n",
       "      <td>0.002489</td>\n",
       "      <td>31.27250</td>\n",
       "      <td>132.32600</td>\n",
       "      <td>0.108777</td>\n",
       "    </tr>\n",
       "    <tr>\n",
       "      <th>449</th>\n",
       "      <td>0.000780</td>\n",
       "      <td>0.004917</td>\n",
       "      <td>35.38860</td>\n",
       "      <td>89.93860</td>\n",
       "      <td>0.077320</td>\n",
       "    </tr>\n",
       "    <tr>\n",
       "      <th>448</th>\n",
       "      <td>0.001709</td>\n",
       "      <td>0.007234</td>\n",
       "      <td>23.57110</td>\n",
       "      <td>46.10330</td>\n",
       "      <td>0.041424</td>\n",
       "    </tr>\n",
       "    <tr>\n",
       "      <th>447</th>\n",
       "      <td>0.002927</td>\n",
       "      <td>0.009415</td>\n",
       "      <td>14.05650</td>\n",
       "      <td>20.67320</td>\n",
       "      <td>0.019999</td>\n",
       "    </tr>\n",
       "    <tr>\n",
       "      <th>446</th>\n",
       "      <td>0.004376</td>\n",
       "      <td>0.011450</td>\n",
       "      <td>1.20087</td>\n",
       "      <td>2.30676</td>\n",
       "      <td>0.002080</td>\n",
       "    </tr>\n",
       "    <tr>\n",
       "      <th>...</th>\n",
       "      <td>...</td>\n",
       "      <td>...</td>\n",
       "      <td>...</td>\n",
       "      <td>...</td>\n",
       "      <td>...</td>\n",
       "    </tr>\n",
       "    <tr>\n",
       "      <th>5</th>\n",
       "      <td>0.990099</td>\n",
       "      <td>0.002641</td>\n",
       "      <td>-94.64490</td>\n",
       "      <td>13.21340</td>\n",
       "      <td>0.076450</td>\n",
       "    </tr>\n",
       "    <tr>\n",
       "      <th>6</th>\n",
       "      <td>0.992575</td>\n",
       "      <td>0.002297</td>\n",
       "      <td>-104.49200</td>\n",
       "      <td>14.73510</td>\n",
       "      <td>0.084421</td>\n",
       "    </tr>\n",
       "    <tr>\n",
       "      <th>3</th>\n",
       "      <td>0.995050</td>\n",
       "      <td>0.001952</td>\n",
       "      <td>-122.84700</td>\n",
       "      <td>17.60270</td>\n",
       "      <td>0.099281</td>\n",
       "    </tr>\n",
       "    <tr>\n",
       "      <th>14</th>\n",
       "      <td>0.997525</td>\n",
       "      <td>0.001607</td>\n",
       "      <td>-174.51900</td>\n",
       "      <td>20.84040</td>\n",
       "      <td>0.140607</td>\n",
       "    </tr>\n",
       "    <tr>\n",
       "      <th>4</th>\n",
       "      <td>1.000000</td>\n",
       "      <td>0.001260</td>\n",
       "      <td>-428.53600</td>\n",
       "      <td>-41.79410</td>\n",
       "      <td>0.344455</td>\n",
       "    </tr>\n",
       "  </tbody>\n",
       "</table>\n",
       "<p>408 rows × 5 columns</p>\n",
       "</div>"
      ],
      "text/plain": [
       "            x         y  X Shear Stress  Y Shear Stress  Shear Stress\n",
       "450  0.000198  0.002489        31.27250       132.32600      0.108777\n",
       "449  0.000780  0.004917        35.38860        89.93860      0.077320\n",
       "448  0.001709  0.007234        23.57110        46.10330      0.041424\n",
       "447  0.002927  0.009415        14.05650        20.67320      0.019999\n",
       "446  0.004376  0.011450         1.20087         2.30676      0.002080\n",
       "..        ...       ...             ...             ...           ...\n",
       "5    0.990099  0.002641       -94.64490        13.21340      0.076450\n",
       "6    0.992575  0.002297      -104.49200        14.73510      0.084421\n",
       "3    0.995050  0.001952      -122.84700        17.60270      0.099281\n",
       "14   0.997525  0.001607      -174.51900        20.84040      0.140607\n",
       "4    1.000000  0.001260      -428.53600       -41.79410      0.344455\n",
       "\n",
       "[408 rows x 5 columns]"
      ]
     },
     "execution_count": 14,
     "metadata": {},
     "output_type": "execute_result"
    }
   ],
   "source": [
    "df = df[df['y'] > 0]\n",
    "df = df.sort_values('x')\n",
    "df"
   ]
  },
  {
   "attachments": {},
   "cell_type": "markdown",
   "metadata": {},
   "source": [
    "# Plot the diagram"
   ]
  },
  {
   "cell_type": "code",
   "execution_count": 15,
   "metadata": {},
   "outputs": [
    {
     "data": {
      "text/plain": [
       "[<matplotlib.lines.Line2D at 0x7ff9fcd56520>]"
      ]
     },
     "execution_count": 15,
     "metadata": {},
     "output_type": "execute_result"
    },
    {
     "data": {
      "image/png": "[encoded data removed]",
      "text/plain": [
       "<Figure size 640x480 with 1 Axes>"
      ]
     },
     "metadata": {},
     "output_type": "display_data"
    }
   ],
   "source": [
    "plt.plot(dref['x'], dref[' shear stress'])"
   ]
  },
  {
   "cell_type": "code",
   "execution_count": 16,
   "metadata": {},
   "outputs": [
    {
     "data": {
      "text/plain": [
       "[<matplotlib.lines.Line2D at 0x7ff9fac57ac0>]"
      ]
     },
     "execution_count": 16,
     "metadata": {},
     "output_type": "execute_result"
    },
    {
     "data": {
      "image/png": "[encoded data removed]",
      "text/plain": [
       "<Figure size 640x480 with 1 Axes>"
      ]
     },
     "metadata": {},
     "output_type": "display_data"
    }
   ],
   "source": [
    "plt.plot(df['x'],df['Shear Stress'], 'b-o',ms=3 , label='Plot 1')\n"
   ]
  },
  {
   "cell_type": "code",
   "execution_count": 17,
   "metadata": {},
   "outputs": [
    {
     "data": {
      "image/png": "[encoded data removed]",
      "text/plain": [
       "<Figure size 640x480 with 1 Axes>"
      ]
     },
     "metadata": {},
     "output_type": "display_data"
    }
   ],
   "source": [
    "plt.plot(df['x'],df['Shear Stress'], 'b-o',ms=3 , label='Plot 1')\n",
    "plt.plot(dref['x'], dref[' shear stress'], color= 'red', label='Plot 2')\n",
    "plt.show()"
   ]
  },
  {
   "cell_type": "code",
   "execution_count": null,
   "metadata": {},
   "outputs": [],
   "source": []
  },
  {
   "cell_type": "code",
   "execution_count": null,
   "metadata": {},
   "outputs": [],
   "source": []
  }
 ],
 "metadata": {
  "kernelspec": {
   "display_name": "Python 3",
   "language": "python",
   "name": "python3"
  },
  "language_info": {
   "codemirror_mode": {
    "name": "ipython",
    "version": 3
   },
   "file_extension": ".py",
   "mimetype": "text/x-python",
   "name": "python",
   "nbconvert_exporter": "python",
   "pygments_lexer": "ipython3",
   "version": "3.8.10"
  },
  "orig_nbformat": 4
 },
 "nbformat": 4,
 "nbformat_minor": 2
}
