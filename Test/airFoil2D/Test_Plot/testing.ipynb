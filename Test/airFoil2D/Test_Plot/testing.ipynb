{
 "cells": [
  {
   "cell_type": "code",
   "execution_count": 1,
   "metadata": {},
   "outputs": [],
   "source": [
    "import pandas as pd\n",
    "import re, numpy, os, sys\n",
    "import matplotlib.pyplot as plt"
   ]
  },
  {
   "attachments": {},
   "cell_type": "markdown",
   "metadata": {},
   "source": [
    "# Import data"
   ]
  },
  {
   "cell_type": "code",
   "execution_count": 8,
   "metadata": {},
   "outputs": [],
   "source": [
    "with open('/home/pggo/OpenFOAM/pggo-10/run/airFoil2D/airFoil2D/Test_Plot/faces.csv', 'r') as nfaces:\n",
    "    nfaces = nfaces.read()\n",
    "\n",
    "with open('/home/pggo/OpenFOAM/pggo-10/run/airFoil2D/airFoil2D/Test_Plot/points.csv', 'r') as fpoints:\n",
    "    points = fpoints.read()\n",
    "\n",
    "with open('/home/pggo/OpenFOAM/pggo-10/run/airFoil2D/airFoil2D/Test_Plot/wallShearStress.csv', 'r') as Stress:\n",
    "    tau = Stress.read()\n",
    "\n",
    "with open('points.csv', 'r') as database_points:\n",
    "    d_points = database_points.read()\n",
    "\n",
    "dref = pd.read_csv('/home/pggo/OpenFOAM/pggo-10/run/airFoil2D/airFoil2D/Test_Plot/Reference ShearStress..csv')"
   ]
  },
  {
   "attachments": {},
   "cell_type": "markdown",
   "metadata": {},
   "source": [
    "# Faces database processing"
   ]
  },
  {
   "cell_type": "code",
   "execution_count": 9,
   "metadata": {},
   "outputs": [],
   "source": [
    "nFaces = 817\n",
    "startFace = 348302\n",
    "endFaces = startFace + nFaces\n",
    "faces_total = []\n",
    "faces = []\n",
    "\n",
    "for item in re.finditer('\\([\\w ]*\\)', nfaces):\n",
    "    face_temp = item[0]\n",
    "    faces_total.append(int(re.findall('[\\w]*', face_temp)[1]))\n",
    "\n",
    "faces = faces_total[startFace:endFaces]\n",
    "    \n",
    "# print(faces_x)\n"
   ]
  },
  {
   "attachments": {},
   "cell_type": "markdown",
   "metadata": {},
   "source": [
    "# Points database processing \n",
    "for x coordinate"
   ]
  },
  {
   "cell_type": "code",
   "execution_count": 4,
   "metadata": {},
   "outputs": [],
   "source": [
    "x_cord_total = []\n",
    "y_cord_total = []\n",
    "for item in re.finditer('\\(.*\\)', points):\n",
    "    cord_n = item[0]\n",
    "    cord_temp = re.split('[\\(\\)]', cord_n)[1]\n",
    "    x_cord_total.append(float(re.split('[\\ ]', cord_temp)[0]))\n",
    "    y_cord_total.append(float(re.split('[\\ ]', cord_temp)[1]))\n",
    "\n",
    "airfoil_xcord = []\n",
    "airfoil_ycord = []\n",
    "for index in faces:\n",
    "    airfoil_xcord.append(x_cord_total[index])\n",
    "    airfoil_ycord.append(y_cord_total[index])\n",
    "\n",
    "#print(cord_temp)\n",
    "# print(airfoil_xcord)\n",
    "# print(airfoil_ycord)\n"
   ]
  },
  {
   "attachments": {},
   "cell_type": "markdown",
   "metadata": {},
   "source": [
    "# Construct DataFrame for x and y coordinate"
   ]
  },
  {
   "cell_type": "code",
   "execution_count": 5,
   "metadata": {},
   "outputs": [
    {
     "data": {
      "text/html": [
       "<div>\n",
       "<style scoped>\n",
       "    .dataframe tbody tr th:only-of-type {\n",
       "        vertical-align: middle;\n",
       "    }\n",
       "\n",
       "    .dataframe tbody tr th {\n",
       "        vertical-align: top;\n",
       "    }\n",
       "\n",
       "    .dataframe thead th {\n",
       "        text-align: right;\n",
       "    }\n",
       "</style>\n",
       "<table border=\"1\" class=\"dataframe\">\n",
       "  <thead>\n",
       "    <tr style=\"text-align: right;\">\n",
       "      <th></th>\n",
       "      <th>x</th>\n",
       "      <th>y</th>\n",
       "    </tr>\n",
       "  </thead>\n",
       "  <tbody>\n",
       "    <tr>\n",
       "      <th>0</th>\n",
       "      <td>0.967815</td>\n",
       "      <td>0.005688</td>\n",
       "    </tr>\n",
       "    <tr>\n",
       "      <th>1</th>\n",
       "      <td>0.393128</td>\n",
       "      <td>0.058279</td>\n",
       "    </tr>\n",
       "    <tr>\n",
       "      <th>2</th>\n",
       "      <td>0.390630</td>\n",
       "      <td>0.058366</td>\n",
       "    </tr>\n",
       "    <tr>\n",
       "      <th>3</th>\n",
       "      <td>0.995050</td>\n",
       "      <td>0.001952</td>\n",
       "    </tr>\n",
       "    <tr>\n",
       "      <th>4</th>\n",
       "      <td>1.000000</td>\n",
       "      <td>0.001260</td>\n",
       "    </tr>\n",
       "    <tr>\n",
       "      <th>...</th>\n",
       "      <td>...</td>\n",
       "      <td>...</td>\n",
       "    </tr>\n",
       "    <tr>\n",
       "      <th>812</th>\n",
       "      <td>0.990099</td>\n",
       "      <td>-0.002641</td>\n",
       "    </tr>\n",
       "    <tr>\n",
       "      <th>813</th>\n",
       "      <td>0.992575</td>\n",
       "      <td>-0.002297</td>\n",
       "    </tr>\n",
       "    <tr>\n",
       "      <th>814</th>\n",
       "      <td>0.995050</td>\n",
       "      <td>-0.001952</td>\n",
       "    </tr>\n",
       "    <tr>\n",
       "      <th>815</th>\n",
       "      <td>0.997525</td>\n",
       "      <td>-0.001607</td>\n",
       "    </tr>\n",
       "    <tr>\n",
       "      <th>816</th>\n",
       "      <td>1.000000</td>\n",
       "      <td>-0.001260</td>\n",
       "    </tr>\n",
       "  </tbody>\n",
       "</table>\n",
       "<p>817 rows × 2 columns</p>\n",
       "</div>"
      ],
      "text/plain": [
       "            x         y\n",
       "0    0.967815  0.005688\n",
       "1    0.393128  0.058279\n",
       "2    0.390630  0.058366\n",
       "3    0.995050  0.001952\n",
       "4    1.000000  0.001260\n",
       "..        ...       ...\n",
       "812  0.990099 -0.002641\n",
       "813  0.992575 -0.002297\n",
       "814  0.995050 -0.001952\n",
       "815  0.997525 -0.001607\n",
       "816  1.000000 -0.001260\n",
       "\n",
       "[817 rows x 2 columns]"
      ]
     },
     "execution_count": 5,
     "metadata": {},
     "output_type": "execute_result"
    }
   ],
   "source": [
    "airfoil = pd.DataFrame(airfoil_xcord, columns={'x'})\n",
    "airfoil['y'] = airfoil_ycord\n",
    "airfoil"
   ]
  },
  {
   "attachments": {},
   "cell_type": "markdown",
   "metadata": {},
   "source": [
    "# ShearStress database processing"
   ]
  },
  {
   "cell_type": "code",
   "execution_count": 52,
   "metadata": {},
   "outputs": [],
   "source": [
    "tau_x = []\n",
    "tau_y = []\n",
    "for item in re.finditer('\\(.*\\)', tau):\n",
    "    tau_n = item[0]\n",
    "    x_tau_digit = re.split('[\\(\\)]', tau_n)[1]\n",
    "    tau_x.append(float(re.split('[\\ ]', x_tau_digit)[0]))\n",
    "    tau_y.append(float(re.split('[\\ ]', x_tau_digit)[1]))\n",
    "\n",
    "#print('tua is : ', x_tau_digit)\n",
    "Tau = pd.DataFrame(tau_x, columns=['x'])\n",
    "Tau['y'] = tau_y\n",
    "Tau['All'] = numpy.sqrt(numpy.square(Tau['x']) + numpy.square(Tau['y']))"
   ]
  },
  {
   "attachments": {},
   "cell_type": "markdown",
   "metadata": {},
   "source": [
    "# Processing"
   ]
  },
  {
   "attachments": {},
   "cell_type": "markdown",
   "metadata": {},
   "source": [
    "Classify the points into the upper and bottom parts"
   ]
  },
  {
   "cell_type": "code",
   "execution_count": 7,
   "metadata": {},
   "outputs": [
    {
     "name": "stderr",
     "output_type": "stream",
     "text": [
      "/tmp/ipykernel_545/4255641986.py:3: SettingWithCopyWarning: \n",
      "A value is trying to be set on a copy of a slice from a DataFrame.\n",
      "Try using .loc[row_indexer,col_indexer] = value instead\n",
      "\n",
      "See the caveats in the documentation: https://pandas.pydata.org/pandas-docs/stable/user_guide/indexing.html#returning-a-view-versus-a-copy\n",
      "  airfoil['Shear Stress'] = airfoil['Shear Stress'] * -1\n"
     ]
    }
   ],
   "source": [
    "airfoil['Shear Stress'] = Tau\n",
    "airfoil = airfoil[airfoil['y'] > 0]\n",
    "airfoil['Shear Stress'] = airfoil['Shear Stress'] * -1\n",
    "airfoil = airfoil.sort_values('x')\n"
   ]
  },
  {
   "attachments": {},
   "cell_type": "markdown",
   "metadata": {},
   "source": [
    "Dynamic Pressure"
   ]
  },
  {
   "cell_type": "code",
   "execution_count": 8,
   "metadata": {},
   "outputs": [],
   "source": [
    "q = 0.5 * 1 * numpy.square(25.75)"
   ]
  },
  {
   "attachments": {},
   "cell_type": "markdown",
   "metadata": {},
   "source": [
    "Convert shear stress to coefficient"
   ]
  },
  {
   "cell_type": "code",
   "execution_count": 9,
   "metadata": {},
   "outputs": [
    {
     "data": {
      "text/html": [
       "<div>\n",
       "<style scoped>\n",
       "    .dataframe tbody tr th:only-of-type {\n",
       "        vertical-align: middle;\n",
       "    }\n",
       "\n",
       "    .dataframe tbody tr th {\n",
       "        vertical-align: top;\n",
       "    }\n",
       "\n",
       "    .dataframe thead th {\n",
       "        text-align: right;\n",
       "    }\n",
       "</style>\n",
       "<table border=\"1\" class=\"dataframe\">\n",
       "  <thead>\n",
       "    <tr style=\"text-align: right;\">\n",
       "      <th></th>\n",
       "      <th>x</th>\n",
       "      <th>y</th>\n",
       "      <th>Shear Stress</th>\n",
       "    </tr>\n",
       "  </thead>\n",
       "  <tbody>\n",
       "    <tr>\n",
       "      <th>450</th>\n",
       "      <td>0.000198</td>\n",
       "      <td>0.002489</td>\n",
       "      <td>0.001089</td>\n",
       "    </tr>\n",
       "    <tr>\n",
       "      <th>449</th>\n",
       "      <td>0.000780</td>\n",
       "      <td>0.004917</td>\n",
       "      <td>0.002541</td>\n",
       "    </tr>\n",
       "    <tr>\n",
       "      <th>448</th>\n",
       "      <td>0.001709</td>\n",
       "      <td>0.007234</td>\n",
       "      <td>0.003998</td>\n",
       "    </tr>\n",
       "    <tr>\n",
       "      <th>447</th>\n",
       "      <td>0.002927</td>\n",
       "      <td>0.009415</td>\n",
       "      <td>0.005202</td>\n",
       "    </tr>\n",
       "    <tr>\n",
       "      <th>446</th>\n",
       "      <td>0.004376</td>\n",
       "      <td>0.011450</td>\n",
       "      <td>0.006117</td>\n",
       "    </tr>\n",
       "    <tr>\n",
       "      <th>...</th>\n",
       "      <td>...</td>\n",
       "      <td>...</td>\n",
       "      <td>...</td>\n",
       "    </tr>\n",
       "    <tr>\n",
       "      <th>5</th>\n",
       "      <td>0.990099</td>\n",
       "      <td>0.002641</td>\n",
       "      <td>0.001796</td>\n",
       "    </tr>\n",
       "    <tr>\n",
       "      <th>6</th>\n",
       "      <td>0.992575</td>\n",
       "      <td>0.002297</td>\n",
       "      <td>0.001830</td>\n",
       "    </tr>\n",
       "    <tr>\n",
       "      <th>3</th>\n",
       "      <td>0.995050</td>\n",
       "      <td>0.001952</td>\n",
       "      <td>0.001786</td>\n",
       "    </tr>\n",
       "    <tr>\n",
       "      <th>14</th>\n",
       "      <td>0.997525</td>\n",
       "      <td>0.001607</td>\n",
       "      <td>0.005621</td>\n",
       "    </tr>\n",
       "    <tr>\n",
       "      <th>4</th>\n",
       "      <td>1.000000</td>\n",
       "      <td>0.001260</td>\n",
       "      <td>0.000123</td>\n",
       "    </tr>\n",
       "  </tbody>\n",
       "</table>\n",
       "<p>408 rows × 3 columns</p>\n",
       "</div>"
      ],
      "text/plain": [
       "            x         y  Shear Stress\n",
       "450  0.000198  0.002489      0.001089\n",
       "449  0.000780  0.004917      0.002541\n",
       "448  0.001709  0.007234      0.003998\n",
       "447  0.002927  0.009415      0.005202\n",
       "446  0.004376  0.011450      0.006117\n",
       "..        ...       ...           ...\n",
       "5    0.990099  0.002641      0.001796\n",
       "6    0.992575  0.002297      0.001830\n",
       "3    0.995050  0.001952      0.001786\n",
       "14   0.997525  0.001607      0.005621\n",
       "4    1.000000  0.001260      0.000123\n",
       "\n",
       "[408 rows x 3 columns]"
      ]
     },
     "execution_count": 9,
     "metadata": {},
     "output_type": "execute_result"
    }
   ],
   "source": [
    "airfoil['Shear Stress'] = airfoil['Shear Stress'] / q\n",
    "airfoil"
   ]
  },
  {
   "attachments": {},
   "cell_type": "markdown",
   "metadata": {},
   "source": [
    "# Plot diagram"
   ]
  },
  {
   "cell_type": "code",
   "execution_count": 10,
   "metadata": {},
   "outputs": [
    {
     "data": {
      "text/plain": [
       "[<matplotlib.lines.Line2D at 0x7f1b9b945670>]"
      ]
     },
     "execution_count": 10,
     "metadata": {},
     "output_type": "execute_result"
    },
    {
     "data": {
      "image/png": "[encoded data removed]",
      "text/plain": [
       "<Figure size 640x480 with 1 Axes>"
      ]
     },
     "metadata": {},
     "output_type": "display_data"
    }
   ],
   "source": [
    "plt.plot(dref['x'], dref[' shear stress'])"
   ]
  },
  {
   "cell_type": "code",
   "execution_count": 27,
   "metadata": {},
   "outputs": [
    {
     "data": {
      "image/png": "[encoded data removed]",
      "text/plain": [
       "<Figure size 640x480 with 1 Axes>"
      ]
     },
     "metadata": {},
     "output_type": "display_data"
    }
   ],
   "source": [
    "plt.plot(airfoil['x'],airfoil['Shear Stress'], 'b-o',ms=3 , label='Plot 1')\n",
    "plt.plot(dref['x'], dref[' shear stress'], color= 'red', label='Plot 2')\n",
    "plt.show()"
   ]
  }
 ],
 "metadata": {
  "kernelspec": {
   "display_name": "Python 3",
   "language": "python",
   "name": "python3"
  },
  "language_info": {
   "codemirror_mode": {
    "name": "ipython",
    "version": 3
   },
   "file_extension": ".py",
   "mimetype": "text/x-python",
   "name": "python",
   "nbconvert_exporter": "python",
   "pygments_lexer": "ipython3",
   "version": "3.8.10"
  },
  "orig_nbformat": 4
 },
 "nbformat": 4,
 "nbformat_minor": 2
}
